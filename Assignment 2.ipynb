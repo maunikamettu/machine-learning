{
 "cells": [
  {
   "cell_type": "code",
   "execution_count": 33,
   "metadata": {},
   "outputs": [
    {
     "name": "stdout",
     "output_type": "stream",
     "text": [
      "enter the value on n5\n",
      "* \n",
      "* * \n",
      "* * * \n",
      "* * * * \n",
      "* * * * * \n",
      "* * * * \n",
      "* * * \n",
      "* * \n",
      "* \n",
      "\n"
     ]
    }
   ],
   "source": [
    "n=int(input(\"enter the value on n\"))\n",
    "\n",
    "for i in range (1,n+1):\n",
    "    for j in range(1,i+1):\n",
    "        print (\"*\",end=\" \")\n",
    "    print (end = \"\\n\")\n",
    "for i in range(n,0,-1):\n",
    "    for j in range(1,i):\n",
    "        print (\"*\",end=\" \")\n",
    "    print (end =\"\\n\")\n"
   ]
  },
  {
   "cell_type": "code",
   "execution_count": 36,
   "metadata": {},
   "outputs": [
    {
     "name": "stdout",
     "output_type": "stream",
     "text": [
      "enter your stringineuron academy\n",
      "the reverse of string is =  ymedaca norueni\n"
     ]
    }
   ],
   "source": [
    "str = input(\"enter your string \")\n",
    "reverse = str[::-1]\n",
    "print(\"the reverse of string is = \",reverse)"
   ]
  },
  {
   "cell_type": "code",
   "execution_count": null,
   "metadata": {},
   "outputs": [],
   "source": []
  }
 ],
 "metadata": {
  "kernelspec": {
   "display_name": "Python 3",
   "language": "python",
   "name": "python3"
  },
  "language_info": {
   "codemirror_mode": {
    "name": "ipython",
    "version": 3
   },
   "file_extension": ".py",
   "mimetype": "text/x-python",
   "name": "python",
   "nbconvert_exporter": "python",
   "pygments_lexer": "ipython3",
   "version": "3.8.5"
  }
 },
 "nbformat": 4,
 "nbformat_minor": 4
}
